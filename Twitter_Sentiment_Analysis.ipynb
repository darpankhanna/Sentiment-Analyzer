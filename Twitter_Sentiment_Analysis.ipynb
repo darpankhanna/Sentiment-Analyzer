{
  "nbformat": 4,
  "nbformat_minor": 0,
  "metadata": {
    "colab": {
      "name": "Twitter_Sentiment_Analysis.ipynb",
      "provenance": [],
      "authorship_tag": "ABX9TyMSW127alPTNhuEEHFUpiQG",
      "include_colab_link": true
    },
    "kernelspec": {
      "name": "python3",
      "display_name": "Python 3"
    },
    "language_info": {
      "name": "python"
    }
  },
  "cells": [
    {
      "cell_type": "markdown",
      "metadata": {
        "id": "view-in-github",
        "colab_type": "text"
      },
      "source": [
        "<a href=\"https://colab.research.google.com/github/darpankhanna/Sentiment-Analyzer/blob/main/Twitter_Sentiment_Analysis.ipynb\" target=\"_parent\"><img src=\"https://colab.research.google.com/assets/colab-badge.svg\" alt=\"Open In Colab\"/></a>"
      ]
    },
    {
      "cell_type": "code",
      "metadata": {
        "id": "7qa-RXmK9Ajd"
      },
      "source": [
        "import tweepy,re\n",
        "from textblob import TextBlob\n",
        "import matplotlib.pyplot as plt\n",
        "import pandas as pd\n",
        "from nltk.tokenize import word_tokenize\n",
        "from nltk.stem import WordNetLemmatizer\n",
        "from nltk.corpus import stopwords"
      ],
      "execution_count": 1,
      "outputs": []
    },
    {
      "cell_type": "code",
      "metadata": {
        "id": "HpZKP9b09NCO"
      },
      "source": [
        "# authentication\n",
        "consumerKey = 'nAfAiljzt8Ntd1oatjYU2uvKc'\n",
        "consumerSecret = 'JBJahC7nKS4q853V0vodZ8buaYGHwySv6u5XFm52dlownOqTRm'\n",
        "accessToken = '4880646753-8TzBk1UEjuvXEXR2XL7uJ2ZFMRZnwNrDOioUHI9'\n",
        "accessTokenSecret = 'CjAas3cB7A9OW7SJFA6SOkyfgv61MyN59W0g47ZSqBL2b'\n",
        "auth = tweepy.OAuthHandler(consumerKey, consumerSecret)\n",
        "auth.set_access_token(accessToken, accessTokenSecret)\n",
        "api = tweepy.API(auth)"
      ],
      "execution_count": 2,
      "outputs": []
    },
    {
      "cell_type": "code",
      "metadata": {
        "colab": {
          "base_uri": "https://localhost:8080/"
        },
        "id": "eOwTiSBz9V19",
        "outputId": "9bdf3828-d0f9-45fa-9d71-8e316e972a87"
      },
      "source": [
        "# input for term to be searched and how many tweets to search\n",
        "searchTerm = input(\"Enter Keyword/Tag to search about: \")\n",
        "NoOfTerms = int(input(\"Enter how many tweets to search: \"))\n",
        "\n",
        "tweets = []\n",
        "tweetText = []\n",
        "# searching for tweets\n",
        "tweets = tweepy.Cursor(api.search, q=searchTerm+\" -filter:retweets\", lang = \"en\").items(NoOfTerms)"
      ],
      "execution_count": 3,
      "outputs": [
        {
          "name": "stdout",
          "output_type": "stream",
          "text": [
            "Enter Keyword/Tag to search about: Olympics\n",
            "Enter how many tweets to search: 70\n"
          ]
        }
      ]
    },
    {
      "cell_type": "code",
      "metadata": {
        "colab": {
          "base_uri": "https://localhost:8080/",
          "height": 421
        },
        "id": "4wpcgfgB9n2B",
        "outputId": "7b4c4d33-390b-42d3-dc8a-dbe754250b87"
      },
      "source": [
        "tweet_list = [tweet.text for tweet in tweets]\n",
        "tweet_df = pd.DataFrame(tweet_list)\n",
        "tweet_df"
      ],
      "execution_count": 4,
      "outputs": [
        {
          "output_type": "execute_result",
          "data": {
            "text/html": [
              "<div>\n",
              "<style scoped>\n",
              "    .dataframe tbody tr th:only-of-type {\n",
              "        vertical-align: middle;\n",
              "    }\n",
              "\n",
              "    .dataframe tbody tr th {\n",
              "        vertical-align: top;\n",
              "    }\n",
              "\n",
              "    .dataframe thead th {\n",
              "        text-align: right;\n",
              "    }\n",
              "</style>\n",
              "<table border=\"1\" class=\"dataframe\">\n",
              "  <thead>\n",
              "    <tr style=\"text-align: right;\">\n",
              "      <th></th>\n",
              "      <th>0</th>\n",
              "    </tr>\n",
              "  </thead>\n",
              "  <tbody>\n",
              "    <tr>\n",
              "      <th>0</th>\n",
              "      <td>Hon. Brandon Alex Kintu: In these 100 days of ...</td>\n",
              "    </tr>\n",
              "    <tr>\n",
              "      <th>1</th>\n",
              "      <td>A broadcast boycott is the last chance to moun...</td>\n",
              "    </tr>\n",
              "    <tr>\n",
              "      <th>2</th>\n",
              "      <td>The 2012 Olympics will be a decade ago next ye...</td>\n",
              "    </tr>\n",
              "    <tr>\n",
              "      <th>3</th>\n",
              "      <td>@Chuckles152 1984 Summer Olympics by far! Carl...</td>\n",
              "    </tr>\n",
              "    <tr>\n",
              "      <th>4</th>\n",
              "      <td>@OliverTonder Yeah I'm on it, didn't cancel it...</td>\n",
              "    </tr>\n",
              "    <tr>\n",
              "      <th>...</th>\n",
              "      <td>...</td>\n",
              "    </tr>\n",
              "    <tr>\n",
              "      <th>65</th>\n",
              "      <td>@Tommowa48603059 The Olympics guy?</td>\n",
              "    </tr>\n",
              "    <tr>\n",
              "      <th>66</th>\n",
              "      <td>@ofitz75 @zDoodFCB Imagine every 4 years there...</td>\n",
              "    </tr>\n",
              "    <tr>\n",
              "      <th>67</th>\n",
              "      <td>PM Modi asks PR Sreejesh, you must have learnt...</td>\n",
              "    </tr>\n",
              "    <tr>\n",
              "      <th>68</th>\n",
              "      <td>PM Modi asks PR Sreejesh, you must have learnt...</td>\n",
              "    </tr>\n",
              "    <tr>\n",
              "      <th>69</th>\n",
              "      <td>PM Modi asks PR Sreejesh, you must have learnt...</td>\n",
              "    </tr>\n",
              "  </tbody>\n",
              "</table>\n",
              "<p>70 rows × 1 columns</p>\n",
              "</div>"
            ],
            "text/plain": [
              "                                                    0\n",
              "0   Hon. Brandon Alex Kintu: In these 100 days of ...\n",
              "1   A broadcast boycott is the last chance to moun...\n",
              "2   The 2012 Olympics will be a decade ago next ye...\n",
              "3   @Chuckles152 1984 Summer Olympics by far! Carl...\n",
              "4   @OliverTonder Yeah I'm on it, didn't cancel it...\n",
              "..                                                ...\n",
              "65                 @Tommowa48603059 The Olympics guy?\n",
              "66  @ofitz75 @zDoodFCB Imagine every 4 years there...\n",
              "67  PM Modi asks PR Sreejesh, you must have learnt...\n",
              "68  PM Modi asks PR Sreejesh, you must have learnt...\n",
              "69  PM Modi asks PR Sreejesh, you must have learnt...\n",
              "\n",
              "[70 rows x 1 columns]"
            ]
          },
          "metadata": {},
          "execution_count": 4
        }
      ]
    },
    {
      "cell_type": "code",
      "metadata": {
        "id": "1lKKJb6J9vBO"
      },
      "source": [
        "def clean_data(text):\n",
        "    return ' '.join(re.sub(\"(@[a-zA-Z0-9]+)|([^0-9A-Za-z])|(https://[\\w.]+/[\\w]+)\", \" \", text).split())\n",
        "\n",
        "tweet_df['cleaned_data'] = tweet_df[0].apply(clean_data)"
      ],
      "execution_count": 5,
      "outputs": []
    },
    {
      "cell_type": "code",
      "metadata": {
        "colab": {
          "base_uri": "https://localhost:8080/",
          "height": 205
        },
        "id": "JLdSXw9W9zty",
        "outputId": "6d917413-3342-4421-b4e3-3c70050a58f5"
      },
      "source": [
        "tweet_df.head()"
      ],
      "execution_count": 6,
      "outputs": [
        {
          "output_type": "execute_result",
          "data": {
            "text/html": [
              "<div>\n",
              "<style scoped>\n",
              "    .dataframe tbody tr th:only-of-type {\n",
              "        vertical-align: middle;\n",
              "    }\n",
              "\n",
              "    .dataframe tbody tr th {\n",
              "        vertical-align: top;\n",
              "    }\n",
              "\n",
              "    .dataframe thead th {\n",
              "        text-align: right;\n",
              "    }\n",
              "</style>\n",
              "<table border=\"1\" class=\"dataframe\">\n",
              "  <thead>\n",
              "    <tr style=\"text-align: right;\">\n",
              "      <th></th>\n",
              "      <th>0</th>\n",
              "      <th>cleaned_data</th>\n",
              "    </tr>\n",
              "  </thead>\n",
              "  <tbody>\n",
              "    <tr>\n",
              "      <th>0</th>\n",
              "      <td>Hon. Brandon Alex Kintu: In these 100 days of ...</td>\n",
              "      <td>Hon Brandon Alex Kintu In these 100 days of pa...</td>\n",
              "    </tr>\n",
              "    <tr>\n",
              "      <th>1</th>\n",
              "      <td>A broadcast boycott is the last chance to moun...</td>\n",
              "      <td>A broadcast boycott is the last chance to moun...</td>\n",
              "    </tr>\n",
              "    <tr>\n",
              "      <th>2</th>\n",
              "      <td>The 2012 Olympics will be a decade ago next ye...</td>\n",
              "      <td>The 2012 Olympics will be a decade ago next year</td>\n",
              "    </tr>\n",
              "    <tr>\n",
              "      <th>3</th>\n",
              "      <td>@Chuckles152 1984 Summer Olympics by far! Carl...</td>\n",
              "      <td>1984 Summer Olympics by far Carl Lewis winning...</td>\n",
              "    </tr>\n",
              "    <tr>\n",
              "      <th>4</th>\n",
              "      <td>@OliverTonder Yeah I'm on it, didn't cancel it...</td>\n",
              "      <td>Yeah I m on it didn t cancel it when I got GCN...</td>\n",
              "    </tr>\n",
              "  </tbody>\n",
              "</table>\n",
              "</div>"
            ],
            "text/plain": [
              "                                                   0                                       cleaned_data\n",
              "0  Hon. Brandon Alex Kintu: In these 100 days of ...  Hon Brandon Alex Kintu In these 100 days of pa...\n",
              "1  A broadcast boycott is the last chance to moun...  A broadcast boycott is the last chance to moun...\n",
              "2  The 2012 Olympics will be a decade ago next ye...   The 2012 Olympics will be a decade ago next year\n",
              "3  @Chuckles152 1984 Summer Olympics by far! Carl...  1984 Summer Olympics by far Carl Lewis winning...\n",
              "4  @OliverTonder Yeah I'm on it, didn't cancel it...  Yeah I m on it didn t cancel it when I got GCN..."
            ]
          },
          "metadata": {},
          "execution_count": 6
        }
      ]
    },
    {
      "cell_type": "code",
      "metadata": {
        "id": "4cJD-f-x942G"
      },
      "source": [
        "def drop_numbers(list_text):\n",
        "    list_text_new = []\n",
        "    for i in list_text:\n",
        "        if not re.search('\\d', i):\n",
        "            list_text_new.append(i)\n",
        "    return ''.join(list_text_new)\n",
        "\n",
        "tweet_df['cleaned_data'] = tweet_df['cleaned_data'].apply(drop_numbers)"
      ],
      "execution_count": 7,
      "outputs": []
    },
    {
      "cell_type": "code",
      "metadata": {
        "colab": {
          "base_uri": "https://localhost:8080/"
        },
        "id": "9oKQqUgK-CUK",
        "outputId": "c1702a81-fe9a-441b-cb7f-536ff8cb1a34"
      },
      "source": [
        "import nltk\n",
        "nltk.download('wordnet')"
      ],
      "execution_count": 8,
      "outputs": [
        {
          "output_type": "stream",
          "name": "stdout",
          "text": [
            "[nltk_data] Downloading package wordnet to /root/nltk_data...\n",
            "[nltk_data]   Package wordnet is already up-to-date!\n"
          ]
        },
        {
          "output_type": "execute_result",
          "data": {
            "text/plain": [
              "True"
            ]
          },
          "metadata": {},
          "execution_count": 8
        }
      ]
    },
    {
      "cell_type": "code",
      "metadata": {
        "colab": {
          "base_uri": "https://localhost:8080/"
        },
        "id": "NL4hfg_V-1CR",
        "outputId": "15441c45-d3cd-40d9-b654-3baac28cbaeb"
      },
      "source": [
        "import nltk\n",
        "nltk.download('punkt')"
      ],
      "execution_count": 9,
      "outputs": [
        {
          "output_type": "stream",
          "name": "stdout",
          "text": [
            "[nltk_data] Downloading package punkt to /root/nltk_data...\n",
            "[nltk_data]   Package punkt is already up-to-date!\n"
          ]
        },
        {
          "output_type": "execute_result",
          "data": {
            "text/plain": [
              "True"
            ]
          },
          "metadata": {},
          "execution_count": 9
        }
      ]
    },
    {
      "cell_type": "code",
      "metadata": {
        "colab": {
          "base_uri": "https://localhost:8080/"
        },
        "id": "3utYjAs0_Y8y",
        "outputId": "446ec3e3-0acf-44f2-b3dc-cc7549897314"
      },
      "source": [
        "import nltk\n",
        "nltk.download('stopwords')"
      ],
      "execution_count": 10,
      "outputs": [
        {
          "output_type": "stream",
          "name": "stdout",
          "text": [
            "[nltk_data] Downloading package stopwords to /root/nltk_data...\n",
            "[nltk_data]   Package stopwords is already up-to-date!\n"
          ]
        },
        {
          "output_type": "execute_result",
          "data": {
            "text/plain": [
              "True"
            ]
          },
          "metadata": {},
          "execution_count": 10
        }
      ]
    },
    {
      "cell_type": "code",
      "metadata": {
        "id": "CcYho1c0-gkf"
      },
      "source": [
        "lemmatizer = WordNetLemmatizer()\n",
        "def lemmatise(text):\n",
        "    text_tokens = word_tokenize(text)\n",
        "    text_lemm = [lemmatizer.lemmatize(word) for word in text_tokens]\n",
        "    return ' '.join(text_lemm)\n",
        "\n",
        "tweet_df['cleaned_data'] = tweet_df['cleaned_data'].apply(lemmatise)"
      ],
      "execution_count": 11,
      "outputs": []
    },
    {
      "cell_type": "code",
      "metadata": {
        "colab": {
          "base_uri": "https://localhost:8080/"
        },
        "id": "V3flF4NW-4wD",
        "outputId": "18f90561-d2f5-4a6b-f454-ee88e2dc64f5"
      },
      "source": [
        "tweet_df['cleaned_data'].values"
      ],
      "execution_count": 12,
      "outputs": [
        {
          "output_type": "execute_result",
          "data": {
            "text/plain": [
              "array(['Hon Brandon Alex Kintu In these day of parliament we had the Olympics where we won medal and Parliament pa',\n",
              "       'A broadcast boycott is the last chance to mount serious resistance against the Beijing Olympic Games Beijing',\n",
              "       'The Olympics will be a decade ago next year',\n",
              "       'Summer Olympics by far Carl Lewis winning becoming st Gymnast winning A',\n",
              "       'Yeah I m on it didn t cancel it when I got GCN because they had the Olympics and very glad I kept it',\n",
              "       'Trent Z is gay amp dripping wet which would ameliorate a lot of that vote that went to Zali in',\n",
              "       'I got just a little bit into volleyball since the Olympics haha a I watched the semi and the final I d',\n",
              "       'exo solo fandom fighting over who got the le promotion the oppression olympics no wonder why yall being called',\n",
              "       'is there like an olympics for singer bc i want to sign dokyeom up',\n",
              "       'How is the born in a summer Olympics year v born in a Commonwealth Games year count going',\n",
              "       'the table tennis game wa so intense but also so funny please the olympics could never match that',\n",
              "       'TeamCanada at sprintcanoe icfsprint World Championships Copenhagen DEN Katie Vincent win gold in A Final',\n",
              "       'worst day of this fucking year can i skip to sasha going to olympics',\n",
              "       'ADHD Olympics what event do we have I nominate Turning Brain Away From Exciting New Project And Making It Conc',\n",
              "       'formally denies crisis with Switzerland over F deal Macron agreed to meet with Parmelin date hasn t be',\n",
              "       'Prime Minister will auction personal memorabilia from the Tokyo Olympics to generate fund for a good',\n",
              "       'while mcu ha a sleek modern day Olympics feel and work to it mcm could rather be acquainted to',\n",
              "       'it the time for the oppress olympics between the exo boy to begin again',\n",
              "       'Whoever say that Naya from the Origins of Olympics and other series is a Pdofli Your Transphobia is showing and',\n",
              "       'Ethiopia The origin of Coffee and Teff Proud mother of the first Gold medalist for Africa in Rom',\n",
              "       'I knew I wanted to get into verse when I saw Kylie Minogue reciting I Should Be So Lucky at the Poetry Olympics',\n",
              "       'Will you help Khamenei have a private Olympics without Israel',\n",
              "       'imagine having to go to isac and do the olympics when all u wanted wa to perform on stage',\n",
              "       'im gon na die from laughing too much watching jaehyun play ping pong like he s in the olympics',\n",
              "       'red rose Other than the Olympics business woman of the year award rape crisi',\n",
              "       'here we go with the mistreatment olympics again',\n",
              "       'At the Sydney Olympics Karnam Malleswari lifted kg in the snatch and kg in the clean and jerk categor',\n",
              "       'sport olympicpark PastPresentFuture in site India rejoiced London Olympics gain',\n",
              "       'Never underestimate',\n",
              "       'omg i know this last song for hp from the olympics and yuju',\n",
              "       'It just show that it s working',\n",
              "       'He s practising for the diving Olympics',\n",
              "       'Beijing Winter Olympics Official App Men Figure Skating Schedule Team SP Team FS',\n",
              "       'Looking at which Capitals could play at the Beijing Olympics for There s a certain American who w',\n",
              "       'Oh I d like to read that My abiding memory of Roger Kingdom wa him run',\n",
              "       'Neeraj Chopra Tokyo Olympics Gold Medallist Seen in Multiple Avatars in Viral CRED Advertisement Watch Video',\n",
              "       'I promise myself that I would watch the volleyball game a well a Filipino athlete in the Paris Olympics Okay ipon ipon na haha',\n",
              "       'I hipe one day you all stop having the oppression olympics bc it s getting very sad to watch now',\n",
              "       'Vice President M Venkaiah Naidu is felicitating the Tokyo Paralympics Olympics Winners in Gurugram today Haryan',\n",
              "       'In Argentina the Mathematical Olympics of Adventist Educational Institutions began',\n",
              "       'The origin of Coffee and Teff Proud mother of the first Gold medalist for Africa in Roma Olympics Abebe',\n",
              "       'Enjoy campaigning Earlier day india wa satisfied with participation in olympics',\n",
              "       'Queens After watching your amazing',\n",
              "       'it wouldn t be a Sunday without the Mistreatments Olympics being in demand for various thing and booking thing',\n",
              "       'it ha to be peaty and katjones I ve been a huge fan of his since Olympics so wa over the moon whe',\n",
              "       'The olympics logo x fencing reminds me of jackson Tiber',\n",
              "       'ant U hater of Punjab ha narrow minded thinking just in Olympics Punjabis also participated',\n",
              "       'Keni Harrison Olympic trial I d change it so she made it to the Olympics',\n",
              "       'instead of staging little political stunt what if the fed just had a public interagency olympics on the national',\n",
              "       'Helen Lenskyj and I teamed up for this important topic The call for a broadcast boycott open the door for inte',\n",
              "       'heqing If no student then no Olympics boycottOlympics boycottChina',\n",
              "       'Still up and running I may commute into Manhattan later Not a big viewing sport fan nope I don t even know who',\n",
              "       'Yeah olympics guy his husband is Oscar screenwriter director and LGBT activist they are both doing',\n",
              "       'Add on Olympics and World Cup',\n",
              "       'Jackson participated in a program which related to the Beijing Winter Olympics Find out what that is this mid',\n",
              "       'Is it In Western Australia people are normally at work or school which make it hard to watch it',\n",
              "       'chanu Wonderful Proud of you gal I like your ear ring Olympics design Wow morepowertoyou',\n",
              "       'PM Modi asks PR Sreejesh you must have learnt Punjabi by now here is what he said via Na',\n",
              "       'This mistreatment olympics is so dumb and fucking tiring Just appreciate the work they put in and enjoy the content you get',\n",
              "       'The rocket resigned Dante exum He s fallen from his original hype but hopefully he can keep up the production he',\n",
              "       'ofc im manipulating them into feeling bad for weaponizing friend and acusing me of being a bad friend like these mf',\n",
              "       'alphamale Chutiya yes cricket will survive in India with that approach and forget ab',\n",
              "       'KTR',\n",
              "       'here we go another oppression olympics I will find this fandom a job',\n",
              "       'It s fun until the kid start fighting eachother and one end up losing a leg',\n",
              "       'The Olympics guy',\n",
              "       'Imagine every year there is the biggest event for any sportsman and a certain player never ev',\n",
              "       'PM Modi asks PR Sreejesh you must have learnt Punjabi by now here is what he said',\n",
              "       'PM Modi asks PR Sreejesh you must have learnt Punjabi by now here is what he said',\n",
              "       'PM Modi asks PR Sreejesh you must have learnt Punjabi by now here is what he said'],\n",
              "      dtype=object)"
            ]
          },
          "metadata": {},
          "execution_count": 12
        }
      ]
    },
    {
      "cell_type": "code",
      "metadata": {
        "id": "zUMs8Ryr-_GM"
      },
      "source": [
        "def remove_stopword(text):\n",
        "    text_tokens = word_tokenize(text)\n",
        "    tokens = [word for word in text_tokens if not word in set(stopwords.words('english'))]\n",
        "    tokens_text = ' '.join(tokens)\n",
        "    return tokens_text\n",
        "\n",
        "tweet_df['cleaned_data'] = tweet_df['cleaned_data'].apply(remove_stopword)"
      ],
      "execution_count": 13,
      "outputs": []
    },
    {
      "cell_type": "code",
      "metadata": {
        "colab": {
          "base_uri": "https://localhost:8080/"
        },
        "id": "TwhV92a4_eYa",
        "outputId": "89852d1b-5689-4c11-9554-6e2c53811b53"
      },
      "source": [
        "tweet_df['cleaned_data'].values"
      ],
      "execution_count": 14,
      "outputs": [
        {
          "output_type": "execute_result",
          "data": {
            "text/plain": [
              "array(['Hon Brandon Alex Kintu In day parliament Olympics medal Parliament pa',\n",
              "       'A broadcast boycott last chance mount serious resistance Beijing Olympic Games Beijing',\n",
              "       'The Olympics decade ago next year',\n",
              "       'Summer Olympics far Carl Lewis winning becoming st Gymnast winning A',\n",
              "       'Yeah I cancel I got GCN Olympics glad I kept',\n",
              "       'Trent Z gay amp dripping wet would ameliorate lot vote went Zali',\n",
              "       'I got little bit volleyball since Olympics haha I watched semi final I',\n",
              "       'exo solo fandom fighting got le promotion oppression olympics wonder yall called',\n",
              "       'like olympics singer bc want sign dokyeom',\n",
              "       'How born summer Olympics year v born Commonwealth Games year count going',\n",
              "       'table tennis game wa intense also funny please olympics could never match',\n",
              "       'TeamCanada sprintcanoe icfsprint World Championships Copenhagen DEN Katie Vincent win gold A Final',\n",
              "       'worst day fucking year skip sasha going olympics',\n",
              "       'ADHD Olympics event I nominate Turning Brain Away From Exciting New Project And Making It Conc',\n",
              "       'formally denies crisis Switzerland F deal Macron agreed meet Parmelin date',\n",
              "       'Prime Minister auction personal memorabilia Tokyo Olympics generate fund good',\n",
              "       'mcu ha sleek modern day Olympics feel work mcm could rather acquainted',\n",
              "       'time oppress olympics exo boy begin',\n",
              "       'Whoever say Naya Origins Olympics series Pdofli Your Transphobia showing',\n",
              "       'Ethiopia The origin Coffee Teff Proud mother first Gold medalist Africa Rom',\n",
              "       'I knew I wanted get verse I saw Kylie Minogue reciting I Should Be So Lucky Poetry Olympics',\n",
              "       'Will help Khamenei private Olympics without Israel',\n",
              "       'imagine go isac olympics u wanted wa perform stage',\n",
              "       'im gon na die laughing much watching jaehyun play ping pong like olympics',\n",
              "       'red rose Other Olympics business woman year award rape crisi',\n",
              "       'go mistreatment olympics',\n",
              "       'At Sydney Olympics Karnam Malleswari lifted kg snatch kg clean jerk categor',\n",
              "       'sport olympicpark PastPresentFuture site India rejoiced London Olympics gain',\n",
              "       'Never underestimate', 'omg know last song hp olympics yuju',\n",
              "       'It show working', 'He practising diving Olympics',\n",
              "       'Beijing Winter Olympics Official App Men Figure Skating Schedule Team SP Team FS',\n",
              "       'Looking Capitals could play Beijing Olympics There certain American w',\n",
              "       'Oh I like read My abiding memory Roger Kingdom wa run',\n",
              "       'Neeraj Chopra Tokyo Olympics Gold Medallist Seen Multiple Avatars Viral CRED Advertisement Watch Video',\n",
              "       'I promise I would watch volleyball game well Filipino athlete Paris Olympics Okay ipon ipon na haha',\n",
              "       'I hipe one day stop oppression olympics bc getting sad watch',\n",
              "       'Vice President M Venkaiah Naidu felicitating Tokyo Paralympics Olympics Winners Gurugram today Haryan',\n",
              "       'In Argentina Mathematical Olympics Adventist Educational Institutions began',\n",
              "       'The origin Coffee Teff Proud mother first Gold medalist Africa Roma Olympics Abebe',\n",
              "       'Enjoy campaigning Earlier day india wa satisfied participation olympics',\n",
              "       'Queens After watching amazing',\n",
              "       'Sunday without Mistreatments Olympics demand various thing booking thing',\n",
              "       'ha peaty katjones I huge fan since Olympics wa moon whe',\n",
              "       'The olympics logo x fencing reminds jackson Tiber',\n",
              "       'ant U hater Punjab ha narrow minded thinking Olympics Punjabis also participated',\n",
              "       'Keni Harrison Olympic trial I change made Olympics',\n",
              "       'instead staging little political stunt fed public interagency olympics national',\n",
              "       'Helen Lenskyj I teamed important topic The call broadcast boycott open door inte',\n",
              "       'heqing If student Olympics boycottOlympics boycottChina',\n",
              "       'Still running I may commute Manhattan later Not big viewing sport fan nope I even know',\n",
              "       'Yeah olympics guy husband Oscar screenwriter director LGBT activist',\n",
              "       'Add Olympics World Cup',\n",
              "       'Jackson participated program related Beijing Winter Olympics Find mid',\n",
              "       'Is In Western Australia people normally work school make hard watch',\n",
              "       'chanu Wonderful Proud gal I like ear ring Olympics design Wow morepowertoyou',\n",
              "       'PM Modi asks PR Sreejesh must learnt Punjabi said via Na',\n",
              "       'This mistreatment olympics dumb fucking tiring Just appreciate work put enjoy content get',\n",
              "       'The rocket resigned Dante exum He fallen original hype hopefully keep production',\n",
              "       'ofc im manipulating feeling bad weaponizing friend acusing bad friend like mf',\n",
              "       'alphamale Chutiya yes cricket survive India approach forget ab',\n",
              "       'KTR', 'go another oppression olympics I find fandom job',\n",
              "       'It fun kid start fighting eachother one end losing leg',\n",
              "       'The Olympics guy',\n",
              "       'Imagine every year biggest event sportsman certain player never ev',\n",
              "       'PM Modi asks PR Sreejesh must learnt Punjabi said',\n",
              "       'PM Modi asks PR Sreejesh must learnt Punjabi said',\n",
              "       'PM Modi asks PR Sreejesh must learnt Punjabi said'], dtype=object)"
            ]
          },
          "metadata": {},
          "execution_count": 14
        }
      ]
    },
    {
      "cell_type": "code",
      "metadata": {
        "id": "fF7nTX2BAGn_"
      },
      "source": [
        "# Lets calculate the Polarity of the Reviews\n",
        "def get_polarity(text):\n",
        "    textblob = TextBlob(str(text))\n",
        "    pol = textblob.sentiment.polarity\n",
        "    if(pol==0):\n",
        "        return \"Neutral\"\n",
        "    elif(pol>0 and pol<=0.3):\n",
        "        return \"Weakly Positive\"\n",
        "    elif(pol>0.3 and pol<=0.6):\n",
        "        return \"Positive\"\n",
        "    elif(pol>0.6 and pol<=1):\n",
        "        return \"Strongly Positive\"\n",
        "    elif(pol>-0.3 and pol<=0):\n",
        "        return \"Weakly Negative\"\n",
        "    elif(pol>-0.6 and pol<=-0.3):\n",
        "        return \"Negative\"\n",
        "    elif(pol>-1 and pol<=-0.6):\n",
        "        return \"Strongly Negative\"\n",
        "    \n",
        "tweet_df['polarity'] = tweet_df['cleaned_data'].apply(get_polarity)"
      ],
      "execution_count": 15,
      "outputs": []
    },
    {
      "cell_type": "code",
      "metadata": {
        "colab": {
          "base_uri": "https://localhost:8080/"
        },
        "id": "1zrP5eZ1AMHj",
        "outputId": "fb375ba9-87ec-4fa1-f804-6406a7c0a152"
      },
      "source": [
        "tweet_df['polarity'].value_counts()"
      ],
      "execution_count": 16,
      "outputs": [
        {
          "output_type": "execute_result",
          "data": {
            "text/plain": [
              "Neutral              36\n",
              "Weakly Positive      13\n",
              "Positive             11\n",
              "Weakly Negative       5\n",
              "Strongly Positive     2\n",
              "Strongly Negative     2\n",
              "Negative              1\n",
              "Name: polarity, dtype: int64"
            ]
          },
          "metadata": {},
          "execution_count": 16
        }
      ]
    },
    {
      "cell_type": "code",
      "metadata": {
        "colab": {
          "base_uri": "https://localhost:8080/"
        },
        "id": "iB1aK5PWAQsg",
        "outputId": "0aef4746-8de9-413d-9cdb-48c597689bc4"
      },
      "source": [
        "tweet_df.dtypes"
      ],
      "execution_count": 17,
      "outputs": [
        {
          "output_type": "execute_result",
          "data": {
            "text/plain": [
              "0               object\n",
              "cleaned_data    object\n",
              "polarity        object\n",
              "dtype: object"
            ]
          },
          "metadata": {},
          "execution_count": 17
        }
      ]
    },
    {
      "cell_type": "code",
      "metadata": {
        "id": "H0bo6G1tA_PI"
      },
      "source": [
        "neutral = 0\n",
        "wpositive = 0\n",
        "spositive = 0\n",
        "positive = 0\n",
        "negative = 0\n",
        "wnegative = 0\n",
        "snegative = 0\n",
        "polarity = 0\n",
        "\n",
        "for i in range(0,44):\n",
        "    textblob = TextBlob(str(tweet_df['cleaned_data'][i]))\n",
        "    polarity+= textblob.sentiment.polarity\n",
        "    pol = textblob.sentiment.polarity\n",
        "    if (pol == 0):  # adding reaction of how people are reacting to find average later\n",
        "        neutral += 1\n",
        "    elif (pol > 0 and pol <= 0.3):\n",
        "        wpositive += 1\n",
        "    elif (pol > 0.3 and pol <= 0.6):\n",
        "        positive += 1\n",
        "    elif (pol > 0.6 and pol <= 1):\n",
        "        spositive += 1\n",
        "    elif (pol > -0.3 and pol <= 0):\n",
        "        wnegative += 1\n",
        "    elif (pol > -0.6 and pol <= -0.3):\n",
        "        negative += 1\n",
        "    elif (pol > -1 and pol <= -0.6):\n",
        "        snegative += 1\n"
      ],
      "execution_count": 18,
      "outputs": []
    },
    {
      "cell_type": "code",
      "metadata": {
        "colab": {
          "base_uri": "https://localhost:8080/"
        },
        "id": "t95Eei7ZPxb0",
        "outputId": "c33540ba-0c48-456a-9f16-b5908853ae51"
      },
      "source": [
        "# finding average reaction\n",
        "polarity = polarity / NoOfTerms\n",
        "polarity"
      ],
      "execution_count": 19,
      "outputs": [
        {
          "output_type": "execute_result",
          "data": {
            "text/plain": [
              "0.06083797155225726"
            ]
          },
          "metadata": {},
          "execution_count": 19
        }
      ]
    },
    {
      "cell_type": "code",
      "metadata": {
        "id": "WLiTpzdqP1v8"
      },
      "source": [
        "def percentage(part, whole):\n",
        "    temp = 100 * float(part) / float(whole)\n",
        "    return format(temp, '.2f')"
      ],
      "execution_count": 20,
      "outputs": []
    },
    {
      "cell_type": "code",
      "metadata": {
        "id": "ozlT-QpkQ-Zf"
      },
      "source": [
        " # finding average of how people are reacting\n",
        "positive = percentage(positive, NoOfTerms)\n",
        "wpositive = percentage(wpositive, NoOfTerms)\n",
        "spositive = percentage(spositive, NoOfTerms)\n",
        "negative = percentage(negative, NoOfTerms)\n",
        "wnegative = percentage(wnegative, NoOfTerms)\n",
        "snegative = percentage(snegative, NoOfTerms)\n",
        "neutral = percentage(neutral, NoOfTerms)"
      ],
      "execution_count": 21,
      "outputs": []
    },
    {
      "cell_type": "code",
      "metadata": {
        "colab": {
          "base_uri": "https://localhost:8080/"
        },
        "id": "2Zc9iYxDRhn1",
        "outputId": "827ac591-623c-495c-c8c7-fdc2adb0c5f7"
      },
      "source": [
        " # printing out data\n",
        "print(\"How people are reacting on \" + searchTerm + \" by analyzing \" + str(NoOfTerms) + \" tweets.\")\n",
        "print()\n",
        "print(\"-----------------------------------------------------------------------------------------\")\n",
        "print()\n",
        "print(\"General Report: \")\n",
        "\n",
        "if (polarity == 0):\n",
        "    print(\"Neutral\")\n",
        "elif (polarity > 0 and polarity <= 0.3):\n",
        "    print(\"Weakly Positive\")\n",
        "elif (polarity > 0.3 and polarity <= 0.6):\n",
        "    print(\"Positive\")\n",
        "elif (polarity > 0.6 and polarity <= 1):\n",
        "    print(\"Strongly Positive\")\n",
        "elif (polarity > -0.3 and polarity <= 0):\n",
        "    print(\"Weakly Negative\")\n",
        "elif (polarity > -0.6 and polarity <= -0.3):\n",
        "    print(\"Negative\")\n",
        "elif (polarity > -1 and polarity <= -0.6):\n",
        "    print(\"Strongly Negative\")\n",
        "\n",
        "print()\n",
        "print(\"------------------------------------------------------------------------------------------\")\n",
        "print()\n",
        "print(\"Detailed Report: \")\n",
        "print(str(positive) + \"% people thought it was positive\")\n",
        "print(str(wpositive) + \"% people thought it was weakly positive\")\n",
        "print(str(spositive) + \"% people thought it was strongly positive\")\n",
        "print(str(negative) + \"% people thought it was negative\")\n",
        "print(str(wnegative) + \"% people thought it was weakly negative\")\n",
        "print(str(snegative) + \"% people thought it was strongly negative\")\n",
        "print(str(neutral) + \"% people thought it was neutral\")"
      ],
      "execution_count": 22,
      "outputs": [
        {
          "output_type": "stream",
          "name": "stdout",
          "text": [
            "How people are reacting on Olympics by analyzing 70 tweets.\n",
            "\n",
            "-----------------------------------------------------------------------------------------\n",
            "\n",
            "General Report: \n",
            "Weakly Positive\n",
            "\n",
            "------------------------------------------------------------------------------------------\n",
            "\n",
            "Detailed Report: \n",
            "12.86% people thought it was positive\n",
            "14.29% people thought it was weakly positive\n",
            "1.43% people thought it was strongly positive\n",
            "1.43% people thought it was negative\n",
            "1.43% people thought it was weakly negative\n",
            "1.43% people thought it was strongly negative\n",
            "30.00% people thought it was neutral\n"
          ]
        }
      ]
    },
    {
      "cell_type": "code",
      "metadata": {
        "id": "0s2aCQbbRue6"
      },
      "source": [
        "sizes = [positive, wpositive, spositive, neutral, negative, wnegative, snegative]\n",
        "colors = ['yellowgreen','lightgreen','darkgreen', 'gold', 'red','lightsalmon','darkred']\n",
        "labels = ['Positive [' + str(positive) + '%]', 'Weakly Positive [' + str(wpositive) + '%]',\n",
        "          'Strongly Positive [' + str(spositive) + '%]', 'Neutral [' + str(neutral) + '%]',\n",
        "          'Negative [' + str(negative) + '%]', 'Weakly Negative [' + str(wnegative) + '%]', \n",
        "          'Strongly Negative [' + str(snegative) + '%]']"
      ],
      "execution_count": 23,
      "outputs": []
    },
    {
      "cell_type": "code",
      "metadata": {
        "colab": {
          "base_uri": "https://localhost:8080/",
          "height": 297
        },
        "id": "255ndAASR2nK",
        "outputId": "d5b2bd9d-86bd-42f5-aa45-9d9f76b280cf"
      },
      "source": [
        "plt.pie(sizes, labels = labels, colors = colors)\n",
        "plt.legend(labels, loc=\"best\")\n",
        "plt.title('How people are reacting on ' + searchTerm + ' by analyzing ' + str(NoOfTerms) + ' Tweets.')\n",
        "plt.axis('equal')\n",
        "plt.tight_layout()\n",
        "plt.show()"
      ],
      "execution_count": 24,
      "outputs": [
        {
          "output_type": "display_data",
          "data": {
            "image/png": "[encoded data removed]",
            "text/plain": [
              "<Figure size 432x288 with 1 Axes>"
            ]
          },
          "metadata": {}
        }
      ]
    }
  ]
}